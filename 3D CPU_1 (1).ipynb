{
 "cells": [
  {
   "cell_type": "code",
   "execution_count": 1,
   "metadata": {},
   "outputs": [],
   "source": [
    "import matplotlib.pyplot as plt\n",
    "import time\n",
    "import cupy as cp\n",
    "import numpy as np\n",
    "from pyevtk.hl import imageToVTK "
   ]
  },
  {
   "cell_type": "code",
   "execution_count": 14,
   "metadata": {
    "collapsed": false,
    "jupyter": {
     "outputs_hidden": false
    },
    "pycharm": {
     "name": "#%%\n"
    }
   },
   "outputs": [
    {
     "name": "stdout",
     "output_type": "stream",
     "text": [
      "0.010101010101010102\n",
      "0.010101010101010102\n",
      "0.010101010101010102\n",
      "0.009801\n"
     ]
    }
   ],
   "source": [
    "Nx = 100\n",
    "Ny = 100\n",
    "Nz = 100\n",
    "X = np.linspace(0,1,Nx)\n",
    "Y = np.linspace(0,1,Ny)\n",
    "Z = np.linspace(0,1,Nz)\n",
    "delta_x = X[1] - X[0]\n",
    "delta_y = Y[1] - Y[0]\n",
    "delta_z = Z[1] - Z[0]\n",
    "print(delta_x)\n",
    "print(delta_y)\n",
    "print(delta_z)\n",
    "tau = 0.0001\n",
    "a = 0.1\n",
    "print(a ** 2 * tau / delta_x **2)\n",
    "U = cp.zeros([Nx, Ny, Nz]) \n",
    "U[0,:,:] = 100\n",
    "U_1 = U.copy()\n",
    "U_new = U.copy()\n",
    "h = 0\n",
    "U = cp.asnumpy(U_1)\n",
    "imageToVTK(f\"./images_3D/image_3d_0\", pointData = {\"temp\" : U})\n",
    "cycles = 2400000\n",
    "t_amount = 10000"
   ]
  },
  {
   "cell_type": "code",
   "execution_count": 15,
   "metadata": {
    "collapsed": false,
    "jupyter": {
     "outputs_hidden": false
    },
    "pycharm": {
     "name": "#%%\n"
    }
   },
   "outputs": [],
   "source": [
    "def time_convert(time):\n",
    "    h = (time//3600)\n",
    "    time = time%3600\n",
    "    m = (time//60)\n",
    "    time = time%60\n",
    "    time = round(time, 2)\n",
    "    return(f'{int(h)} Hours|{int(m)} Minutes|{time} Seconds')"
   ]
  },
  {
   "cell_type": "code",
   "execution_count": 19,
   "metadata": {
    "collapsed": false,
    "jupyter": {
     "outputs_hidden": false
    },
    "pycharm": {
     "name": "#%%\n"
    }
   },
   "outputs": [
    {
     "ename": "SyntaxError",
     "evalue": "invalid syntax (<ipython-input-19-759eb1122268>, line 20)",
     "output_type": "error",
     "traceback": [
      "\u001b[0;36m  File \u001b[0;32m\"<ipython-input-19-759eb1122268>\"\u001b[0;36m, line \u001b[0;32m20\u001b[0m\n\u001b[0;31m    '''t3 = time.time()\u001b[0m\n\u001b[0m                       \n^\u001b[0m\n\u001b[0;31mSyntaxError\u001b[0m\u001b[0;31m:\u001b[0m invalid syntax\n"
     ]
    }
   ],
   "source": [
    "i = 0\n",
    "t4 = time.time()\n",
    "t1 = time.time()\n",
    "#x_cpu = np.array([1, 2, 3])\n",
    "#x_gpu = cp.asarray(x_cpu)  # move the data to the current device.\n",
    "#x_cpu = cp.asnumpy(x_gpu)\n",
    "# U_1 = np.copy(U)\n",
    "for t in range(cycles+1):\n",
    "    U_new[1:-1,1:-1, 1:-1] = U_1[1:-1, 1:-1, 1:-1] +\\\n",
    "                a**2 * tau / delta_x**2 * (U_1[0:-2, 1:-1, 1:-1] - 2 * U_1[1:-1, 1:-1, 1:-1] + U_1[2:, 1:-1, 1:-1])\n",
    "    U_1 = U_new.copy()\n",
    "\n",
    "    U_new[1:-1,1:-1, 1:-1] = U_1[1:-1, 1:-1, 1:-1] +\\\n",
    "                a**2 * tau / delta_y**2 * (U_1[1:-1, 0:-2,1:-1] - 2 * U_1[1:-1, 1:-1,1:-1] + U_1[1:-1, 2:, 1:-1])\n",
    "    U_1 = U_new.copy()\n",
    "    U_new[1:-1,1:-1, 1:-1] = U_1[1:-1, 1:-1, 1:-1] +\\\n",
    "                a**2 * tau / delta_z**2 * (U_1[1:-1, 1:-1, 0:-2] - 2 * U_1[1:-1, 1:-1,  1:-1] + U_1[1:-1, 1:-1, 2:])\n",
    "    U_1 = U_new.copy()'''\n",
    "    if t%t_amount == 0 or t in [1000, 2000, 4000]:\n",
    "        '''t3 = time.time()\n",
    "        print(f'{t} |{time_convert(t3-t4)}|{int(t/cycles*100)}%')\n",
    "        t4 = t3\n",
    "        U = cp.asnumpy(U_1)\n",
    "        imageToVTK(f\"./images_3D/image_3d_{t+1}\", pointData = {\"temp\" : U} )\n",
    "        i+=1\n",
    "t2 = time.time()\n",
    "h += 1\n",
    "print(time_convert(t2-t1))\n"
   ]
  },
  {
   "cell_type": "code",
   "execution_count": null,
   "metadata": {},
   "outputs": [],
   "source": []
  }
 ],
 "metadata": {
  "kernelspec": {
   "display_name": "Python 3",
   "language": "python",
   "name": "python3"
  },
  "language_info": {
   "codemirror_mode": {
    "name": "ipython",
    "version": 3
   },
   "file_extension": ".py",
   "mimetype": "text/x-python",
   "name": "python",
   "nbconvert_exporter": "python",
   "pygments_lexer": "ipython3",
   "version": "3.6.9"
  }
 },
 "nbformat": 4,
 "nbformat_minor": 4
}
